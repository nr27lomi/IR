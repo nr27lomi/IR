{
 "cells": [
  {
   "cell_type": "code",
   "execution_count": null,
   "id": "f2be4ee9",
   "metadata": {},
   "outputs": [],
   "source": [
    "import os\n",
    "\n",
    "if 'TIRA_DATASET_ID' not in os.environ:\n",
    "    !pip3 install python-terrier tira==0.0.88 ir_datasets\n",
    "from tira.third_party_integrations import ir_datasets, persist_and_normalize_run, ensure_pyterrier_is_loaded"
   ]
  },
  {
   "cell_type": "code",
   "execution_count": null,
   "id": "0f6d8202",
   "metadata": {},
   "outputs": [],
   "source": [
    "ensure_pyterrier_is_loaded()"
   ]
  },
  {
   "cell_type": "code",
   "execution_count": null,
   "id": "3a013b33",
   "metadata": {},
   "outputs": [],
   "source": [
    "import pyterrier as pt\n",
    "import pandas as pd\n",
    "import re"
   ]
  },
  {
   "cell_type": "code",
   "execution_count": null,
   "id": "782a2342",
   "metadata": {},
   "outputs": [],
   "source": [
    "\n",
    "dataset = ir_datasets.load('ir-lab-jena-leipzig-wise-2023/training-20231104-training')"
   ]
  },
  {
   "cell_type": "code",
   "execution_count": null,
   "id": "24c7bc88",
   "metadata": {
    "lines_to_next_cell": 1
   },
   "outputs": [],
   "source": [
    "if not pt.started():\n",
    "    pt.init()"
   ]
  },
  {
   "cell_type": "code",
   "execution_count": null,
   "id": "8bc3383e",
   "metadata": {
    "lines_to_next_cell": 1
   },
   "outputs": [],
   "source": [
    "def create_index(documents):\n",
    "    indexer = pt.IterDictIndexer(\"./tmp/index\", overwrite=True, meta={'docno': 20, 'text': 11000})\n",
    "    index_ref = indexer.index(documents)\n",
    "    return pt.IndexFactory.of(index_ref)"
   ]
  },
  {
   "cell_type": "code",
   "execution_count": null,
   "id": "64954361",
   "metadata": {
    "lines_to_next_cell": 1
   },
   "outputs": [],
   "source": [
    "def getDFs():\n",
    "    qrels = {'qid': [], 'docno': [], 'relevance': []}\n",
    "    topics = {'qid': [], 'query': []}\n",
    "\n",
    "    for query in dataset.queries_iter():\n",
    "        topics['qid'].append(query.query_id)\n",
    "        CleanedText = re.sub(r'[^ \\w+]', '', query.default_text())\n",
    "        topics['query'].append(CleanedText)\n",
    "\n",
    "    for rel in dataset.qrels_iter():\n",
    "        qrels['qid'].append(rel.query_id)\n",
    "        qrels['docno'].append(rel.doc_id)\n",
    "        qrels['relevance'].append(rel.relevance)\n",
    "\n",
    "    qrelDF = pd.DataFrame(qrels)\n",
    "    queryDF = pd.DataFrame(topics)\n",
    "    return qrelDF, queryDF"
   ]
  },
  {
   "cell_type": "code",
   "execution_count": null,
   "id": "17638963",
   "metadata": {},
   "outputs": [],
   "source": [
    "def gettopics():\n",
    "    \n",
    "    topics = {'qid': [], 'query': []}\n",
    "    \n",
    "    for query in dataset.queries_iter():\n",
    "        topics['qid'].append(query.query_id)\n",
    "        CleanedText = re.sub(r'[^ \\w+]', '', query.default_text())\n",
    "        topics['query'].append(CleanedText)\n",
    "        \n",
    "    queryDF = pd.DataFrame(topics)\n",
    "    return queryDF\n"
   ]
  },
  {
   "cell_type": "code",
   "execution_count": null,
   "id": "53c43d37",
   "metadata": {},
   "outputs": [],
   "source": [
    "Docs = []\n",
    "for document in list(dataset.docs_iter()):\n",
    "    CleanedText = document.text.replace('\\n', ' ')\n",
    "    Docs.append({'docno': document.doc_id, 'text': CleanedText})"
   ]
  },
  {
   "cell_type": "code",
   "execution_count": null,
   "id": "5f87f43a",
   "metadata": {
    "lines_to_next_cell": 2
   },
   "outputs": [],
   "source": [
    "index = create_index(Docs)\n",
    "bm25 = pt.BatchRetrieve(index, wmodel=\"BM25\")\n",
    "topics = gettopics()\n",
    "#qrels, topics = getDFs()\n",
    "#print(pt.Experiment([bm25], topics, qrels, eval_metrics=['ndcg_cut_10', 'map_10','ndcg']))\n",
    "results = bm25.transform(topics)\n",
    "persist_and_normalize_run(results, default_output='./tmp', system_name='BM25Base')"
   ]
  }
 ],
 "metadata": {
  "jupytext": {
   "cell_metadata_filter": "-all",
   "main_language": "python",
   "notebook_metadata_filter": "-all"
  },
  "kernelspec": {
   "display_name": "Python 3 (ipykernel)",
   "language": "python",
   "name": "python3"
  },
  "language_info": {
   "codemirror_mode": {
    "name": "ipython",
    "version": 3
   },
   "file_extension": ".py",
   "mimetype": "text/x-python",
   "name": "python",
   "nbconvert_exporter": "python",
   "pygments_lexer": "ipython3",
   "version": "3.11.5"
  }
 },
 "nbformat": 4,
 "nbformat_minor": 5
}
